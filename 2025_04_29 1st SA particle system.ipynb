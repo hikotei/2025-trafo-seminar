{
 "cells": [
  {
   "cell_type": "code",
   "execution_count": 1,
   "id": "bb25bc4b",
   "metadata": {},
   "outputs": [],
   "source": [
    "import numpy as np\n",
    "import matplotlib.pyplot as plt\n",
    "import ipywidgets as widgets"
   ]
  },
  {
   "cell_type": "code",
   "execution_count": 2,
   "id": "4ce3e779",
   "metadata": {},
   "outputs": [],
   "source": [
    "# PARAMETERS\n",
    "n = 20\n",
    "d = 2\n",
    "beta = 100\n",
    "dt = 0.01\n",
    "steps = 1000\n",
    "\n",
    "# note that the higher we choose beta, the less clustering we have in the end\n",
    "# small beta = stronger ( 1 central cluster ) and faster clustering at early iterations\n",
    "# large beta = slow clustering as well as more decentral clusters"
   ]
  },
  {
   "cell_type": "code",
   "execution_count": 3,
   "id": "afd63b51",
   "metadata": {},
   "outputs": [],
   "source": [
    "# INITIALIZATION\n",
    "np.random.seed(0)\n",
    "x = np.random.randn(n, d)\n",
    "x = x / np.linalg.norm(x, axis=1, keepdims=True)\n",
    "\n",
    "# Projection to tangent space\n",
    "def project(xi, y):\n",
    "    return y - np.dot(xi, y) * xi\n",
    "\n",
    "# Allocate full trajectory tensor ahead of time\n",
    "trajectory = np.zeros((steps, n, d))\n",
    "trajectory[0] = x.copy()\n",
    "\n",
    "# Dynamics (fully vectorized storage)\n",
    "for step in range(1, steps):\n",
    "    x_new = np.zeros((n, d))\n",
    "    for i in range(n):\n",
    "        dots = np.dot(x[i], x.T)  # shape (n,)\n",
    "        weights = np.exp(beta * dots)\n",
    "        Z = np.sum(weights)\n",
    "        weighted_sum = np.sum(weights[:, np.newaxis] * x, axis=0) / Z\n",
    "        delta = project(x[i], weighted_sum)\n",
    "        xi_new = x[i] + dt * delta\n",
    "        x_new[i] = xi_new / np.linalg.norm(xi_new)\n",
    "    x = x_new\n",
    "    trajectory[step] = x"
   ]
  },
  {
   "cell_type": "code",
   "execution_count": 4,
   "id": "1df23604",
   "metadata": {},
   "outputs": [],
   "source": [
    "%matplotlib inline\n",
    "# %matplotlib notebook\n",
    "# %matplotlib widget"
   ]
  },
  {
   "cell_type": "code",
   "execution_count": null,
   "id": "c9ee36be",
   "metadata": {},
   "outputs": [
    {
     "data": {
      "application/vnd.jupyter.widget-view+json": {
       "model_id": "b82d6813db5e40e08e32101ab82c1cbe",
       "version_major": 2,
       "version_minor": 0
      },
      "text/plain": [
       "interactive(children=(IntSlider(value=0, description='Step', max=999, step=10), Output()), _dom_classes=('widg…"
      ]
     },
     "metadata": {},
     "output_type": "display_data"
    },
    {
     "data": {
      "text/plain": [
       "<function __main__.plot_step(step)>"
      ]
     },
     "execution_count": 26,
     "metadata": {},
     "output_type": "execute_result"
    }
   ],
   "source": [
    "# Set up slider\n",
    "slider = widgets.IntSlider(min=0, max=steps - 1, step=10, value=0, description=\"Step\")\n",
    "\n",
    "\n",
    "# Create a plotting function\n",
    "def plot_step(step):\n",
    "    plt.figure(figsize=(5, 5))\n",
    "    x_step = trajectory[step]\n",
    "    plt.scatter(x_step[:, 0], x_step[:, 1], color=\"blue\", s=50)\n",
    "    plt.gca().add_artist(plt.Circle((0, 0), 1, color=\"gray\", fill=False))\n",
    "    plt.gca().set_aspect(\"equal\")\n",
    "    plt.xlim([-1.2, 1.2])\n",
    "    plt.ylim([-1.2, 1.2])\n",
    "    plt.title(f\"Step {step}\")\n",
    "    plt.grid(True)\n",
    "    plt.show()\n",
    "\n",
    "\n",
    "# Link the slider to the plot\n",
    "widgets.interact(plot_step, step=slider)"
   ]
  }
 ],
 "metadata": {
  "kernelspec": {
   "display_name": "trafo",
   "language": "python",
   "name": "python3"
  },
  "language_info": {
   "codemirror_mode": {
    "name": "ipython",
    "version": 3
   },
   "file_extension": ".py",
   "mimetype": "text/x-python",
   "name": "python",
   "nbconvert_exporter": "python",
   "pygments_lexer": "ipython3",
   "version": "3.13.2"
  }
 },
 "nbformat": 4,
 "nbformat_minor": 5
}
