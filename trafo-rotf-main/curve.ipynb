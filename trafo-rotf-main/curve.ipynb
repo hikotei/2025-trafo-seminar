{
 "cells": [
  {
   "cell_type": "code",
   "execution_count": 2,
   "metadata": {},
   "outputs": [],
   "source": [
    "from scipy.integrate import solve_ivp\n",
    "import numpy as np"
   ]
  },
  {
   "cell_type": "code",
   "execution_count": 3,
   "metadata": {},
   "outputs": [],
   "source": [
    "def ode_func(t, y, n, beta):\n",
    "    return (2 * (1 - y) * ((n-1)*y + 1)) / (np.exp(beta * (1-y)) + (n-1))\n",
    "\n",
    "def compute_beta(y0=0, n=128, epsilon=0.001, T=30, n_T=300, b_span=(0.1, 9), n_b=50):\n",
    "    t_span = (0, T)\n",
    "\n",
    "    t_eval = np.linspace(t_span[0], t_span[1], n_T)\n",
    "    b_eval = np.linspace(b_span[0], b_span[1], n_b)\n",
    "\n",
    "    beta_t = np.zeros_like(t_eval)\n",
    "\n",
    "    for i, t_val in enumerate(t_eval):\n",
    "        def objective(beta_val):\n",
    "            sol = solve_ivp(lambda t, y: ode_func(t, y, n, beta_val), t_span, [y0], t_eval=t_eval)\n",
    "            return sol.y\n",
    "\n",
    "        if len([beta for beta in b_eval if objective(beta)[0][i] >= 1 - epsilon])>0:\n",
    "            beta_t[i] = max([beta for beta in b_eval if objective(beta)[0][i] >= 1 - epsilon])\n",
    "\n",
    "    return beta_t"
   ]
  },
  {
   "cell_type": "code",
   "execution_count": 4,
   "metadata": {},
   "outputs": [
    {
     "name": "stderr",
     "output_type": "stream",
     "text": [
      "/var/folders/4n/p4zjp9g17rx7p18klqb5zmvc0000gn/T/ipykernel_70609/2898159158.py:2: RuntimeWarning: overflow encountered in exp\n",
      "  return (2 * (1 - y) * ((n-1)*y + 1)) / (np.exp(beta * (1-y)) + (n-1))\n"
     ]
    }
   ],
   "source": [
    "betas = compute_beta()"
   ]
  },
  {
   "cell_type": "code",
   "execution_count": 5,
   "metadata": {},
   "outputs": [
    {
     "data": {
      "text/plain": [
       "[<matplotlib.lines.Line2D at 0x307ee96d0>]"
      ]
     },
     "execution_count": 5,
     "metadata": {},
     "output_type": "execute_result"
    },
    {
     "data": {
      "image/png": "[encoded data removed]",
      "text/plain": [
       "<Figure size 640x480 with 1 Axes>"
      ]
     },
     "metadata": {},
     "output_type": "display_data"
    }
   ],
   "source": [
    "import matplotlib.pyplot as plt\n",
    "plt.plot(np.linspace(0, 30, 300), np.maximum(betas, 0), color='blue', linewidth=2)"
   ]
  }
 ],
 "metadata": {
  "kernelspec": {
   "display_name": "trafo",
   "language": "python",
   "name": "python3"
  },
  "language_info": {
   "codemirror_mode": {
    "name": "ipython",
    "version": 3
   },
   "file_extension": ".py",
   "mimetype": "text/x-python",
   "name": "python",
   "nbconvert_exporter": "python",
   "pygments_lexer": "ipython3",
   "version": "3.13.2"
  },
  "orig_nbformat": 4
 },
 "nbformat": 4,
 "nbformat_minor": 2
}
