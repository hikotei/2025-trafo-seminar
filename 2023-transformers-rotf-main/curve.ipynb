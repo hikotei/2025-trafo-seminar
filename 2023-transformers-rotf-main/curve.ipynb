{
 "cells": [
  {
   "cell_type": "code",
   "execution_count": null,
   "metadata": {},
   "outputs": [],
   "source": [
    "from scipy.integrate import solve_ivp\n",
    "import numpy as np"
   ]
  },
  {
   "cell_type": "code",
   "execution_count": null,
   "metadata": {},
   "outputs": [],
   "source": [
    "def ode_func(t, y, n, beta):\n",
    "    return (2 * (1 - y) * ((n-1)*y + 1)) / (np.exp(beta * (1-y)) + (n-1))\n",
    "\n",
    "def compute_beta(y0=0, n=128, epsilon=0.001, T=30, n_T=300, b_span=(0.1, 9), n_b=50):\n",
    "    t_span = (0, T)\n",
    "\n",
    "    t_eval = np.linspace(t_span[0], t_span[1], n_T)\n",
    "    b_eval = np.linspace(b_span[0], b_span[1], n_b)\n",
    "\n",
    "    beta_t = np.zeros_like(t_eval)\n",
    "\n",
    "    for i, t_val in enumerate(t_eval):\n",
    "        def objective(beta_val):\n",
    "            sol = solve_ivp(lambda t, y: ode_func(t, y, n, beta_val), t_span, [y0], t_eval=t_eval)\n",
    "            return sol.y\n",
    "\n",
    "        if len([beta for beta in b_eval if objective(beta)[0][i] >= 1 - epsilon])>0:\n",
    "            beta_t[i] = max([beta for beta in b_eval if objective(beta)[0][i] >= 1 - epsilon])\n",
    "\n",
    "    return beta_t"
   ]
  },
  {
   "cell_type": "code",
   "execution_count": null,
   "metadata": {},
   "outputs": [],
   "source": [
    "betas = compute_beta()"
   ]
  },
  {
   "cell_type": "code",
   "execution_count": null,
   "metadata": {},
   "outputs": [],
   "source": [
    "import matplotlib.pyplot as plt\n",
    "plt.plot(np.linspace(0, 30, 300), np.maximum(betas, 0), color='blue', linewidth=2)"
   ]
  }
 ],
 "metadata": {
  "language_info": {
   "name": "python"
  },
  "orig_nbformat": 4
 },
 "nbformat": 4,
 "nbformat_minor": 2
}
